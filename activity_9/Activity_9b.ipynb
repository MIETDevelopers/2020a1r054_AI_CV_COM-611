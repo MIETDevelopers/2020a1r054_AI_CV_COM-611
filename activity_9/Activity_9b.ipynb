{
 "cells": [
  {
   "cell_type": "markdown",
   "metadata": {
    "id": "ZNfUjFTShWwt"
   },
   "source": [
    "Converting image to gray scale"
   ]
  },
  {
   "cell_type": "code",
   "execution_count": null,
   "metadata": {
    "id": "ODztJ_CnhZps"
   },
   "outputs": [],
   "source": [
    "import cv2\n",
    "import numpy as np"
   ]
  },
  {
   "cell_type": "markdown",
   "metadata": {
    "id": "mf3vGRIJhuMe"
   },
   "source": [
    "simply call the imread function of the cv2 module, passing as input the path to the image, as a string. imread function will have the channels stored in BGR (Blue, Green and Red) order by default"
   ]
  },
  {
   "cell_type": "code",
   "execution_count": null,
   "metadata": {
    "id": "105fpN_dhxMc"
   },
   "outputs": [],
   "source": [
    "image = cv2.imread('C:/Users/BestBuy/Desktop/flower.jpg')\n"
   ]
  },
  {
   "cell_type": "markdown",
   "metadata": {
    "id": "6agUjLRViQGA"
   },
   "source": [
    "Next, we need to convert the image to gray scale. To do it, we need to call the cvtColor function, which allows to convert the image from a color space to another. \n",
    "As first input, this function receives the original image. As second input, it receives the color space conversion code. Since we want to convert our original image from the BGR color space to gray, we use the code COLOR_BGR2GRAY."
   ]
  },
  {
   "cell_type": "code",
   "execution_count": null,
   "metadata": {
    "id": "WfORLs_fiTRI"
   },
   "outputs": [],
   "source": [
    "image= cv2.imread('C:/Users/BestBuy/Desktop/flower.jpg')\n",
    "if(image is not None):\n",
    "    cv2.cvtColor(image, cv2.COLOR_BGR2GRAY)\n"
   ]
  },
  {
   "cell_type": "markdown",
   "metadata": {
    "id": "zo5MgQ3InzJ8"
   },
   "source": [
    "Now, to display the images, we simply need to call the imshow function of the cv2 module. This function receives as first input a string with the name to assign to the window, and as second argument the image to show.\n",
    "\n",
    "We will display both images so we can compare the converted image with the original one."
   ]
  },
  {
   "cell_type": "code",
   "execution_count": null,
   "metadata": {
    "id": "DAQy74ANn3zy"
   },
   "outputs": [],
   "source": [
    "from google.colab.patches import cv2_imshow"
   ]
  },
  {
   "cell_type": "markdown",
   "metadata": {
    "id": "qA7yx7y9pFnu"
   },
   "source": [
    "Finally, we will call the waitKey function, which will wait for a keyboard event. This function receives as input a delay, specified in milliseconds. Nonetheless, if we pass the value 0, then it will wait indefinitely until a key event occurs.\n",
    "\n",
    "Finally, once the user pressed a key, we call the destroyAllWindows function, which will destroy the previously created windows."
   ]
  },
  {
   "cell_type": "code",
   "execution_count": null,
   "metadata": {
    "id": "kHVdqTcgo-yl"
   },
   "outputs": [],
   "source": [
    "cv2.waitKey(0)\n",
    "cv2.destroyAllWindows()"
   ]
  },
  {
   "cell_type": "code",
   "execution_count": null,
   "metadata": {
    "id": "GuiepSgApDf4"
   },
   "outputs": [],
   "source": []
  }
 ],
 "metadata": {
  "colab": {
   "provenance": []
  },
  "kernelspec": {
   "display_name": "Python 3 (ipykernel)",
   "language": "python",
   "name": "python3"
  },
  "language_info": {
   "codemirror_mode": {
    "name": "ipython",
    "version": 3
   },
   "file_extension": ".py",
   "mimetype": "text/x-python",
   "name": "python",
   "nbconvert_exporter": "python",
   "pygments_lexer": "ipython3",
   "version": "3.9.12"
  }
 },
 "nbformat": 4,
 "nbformat_minor": 1
}

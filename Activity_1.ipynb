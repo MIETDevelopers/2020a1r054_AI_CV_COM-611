{
 "cells": [
  {
   "cell_type": "markdown",
   "id": "510bef18",
   "metadata": {},
   "source": [
    "# Basics of Python"
   ]
  },
  {
   "cell_type": "raw",
   "id": "5c6fa695",
   "metadata": {},
   "source": [
    "Expressions"
   ]
  },
  {
   "cell_type": "code",
   "execution_count": 1,
   "id": "b4a85419",
   "metadata": {},
   "outputs": [
    {
     "data": {
      "text/plain": [
       "13"
      ]
     },
     "execution_count": 1,
     "metadata": {},
     "output_type": "execute_result"
    }
   ],
   "source": [
    "6+7"
   ]
  },
  {
   "cell_type": "code",
   "execution_count": 2,
   "id": "375ae5da",
   "metadata": {},
   "outputs": [
    {
     "data": {
      "text/plain": [
       "40"
      ]
     },
     "execution_count": 2,
     "metadata": {},
     "output_type": "execute_result"
    }
   ],
   "source": [
    "8*5"
   ]
  },
  {
   "cell_type": "code",
   "execution_count": 3,
   "id": "f5e6a528",
   "metadata": {},
   "outputs": [
    {
     "data": {
      "text/plain": [
       "'hello world'"
      ]
     },
     "execution_count": 3,
     "metadata": {},
     "output_type": "execute_result"
    }
   ],
   "source": [
    "\"hello world\""
   ]
  },
  {
   "cell_type": "code",
   "execution_count": 4,
   "id": "1d31c4a4",
   "metadata": {},
   "outputs": [
    {
     "name": "stdout",
     "output_type": "stream",
     "text": [
      "hello world\n"
     ]
    }
   ],
   "source": [
    "print (\"hello world\")"
   ]
  },
  {
   "cell_type": "raw",
   "id": "9d04849f",
   "metadata": {},
   "source": [
    "Statements"
   ]
  },
  {
   "cell_type": "code",
   "execution_count": 5,
   "id": "84d095ae",
   "metadata": {},
   "outputs": [
    {
     "name": "stdout",
     "output_type": "stream",
     "text": [
      "0\n",
      "1\n",
      "2\n",
      "3\n",
      "4\n",
      "5\n"
     ]
    }
   ],
   "source": [
    "for i in range(6):\n",
    "  print(i)"
   ]
  },
  {
   "cell_type": "raw",
   "id": "a48176f1",
   "metadata": {},
   "source": [
    "Comments"
   ]
  },
  {
   "cell_type": "code",
   "execution_count": 6,
   "id": "bdfc3207",
   "metadata": {},
   "outputs": [
    {
     "name": "stdout",
     "output_type": "stream",
     "text": [
      "hello world\n"
     ]
    }
   ],
   "source": [
    "print(\"hello world\")#"
   ]
  },
  {
   "cell_type": "code",
   "execution_count": 7,
   "id": "4a542be5",
   "metadata": {},
   "outputs": [],
   "source": [
    "# print(\"hello world\")"
   ]
  },
  {
   "cell_type": "code",
   "execution_count": 8,
   "id": "3d145961",
   "metadata": {},
   "outputs": [
    {
     "name": "stdout",
     "output_type": "stream",
     "text": [
      "hello\n"
     ]
    }
   ],
   "source": [
    "\"\"\"\n",
    "this  is a comment\n",
    "this is a multiline comment\n",
    "\"\"\"\n",
    "print(\"hello\")"
   ]
  },
  {
   "cell_type": "markdown",
   "id": "85cff698",
   "metadata": {},
   "source": [
    "# Data Types"
   ]
  },
  {
   "cell_type": "code",
   "execution_count": 9,
   "id": "24f17bfa",
   "metadata": {},
   "outputs": [
    {
     "data": {
      "text/plain": [
       "int"
      ]
     },
     "execution_count": 9,
     "metadata": {},
     "output_type": "execute_result"
    }
   ],
   "source": [
    "type(69)"
   ]
  },
  {
   "cell_type": "code",
   "execution_count": 10,
   "id": "d2e5b304",
   "metadata": {},
   "outputs": [
    {
     "data": {
      "text/plain": [
       "int"
      ]
     },
     "execution_count": 10,
     "metadata": {},
     "output_type": "execute_result"
    }
   ],
   "source": [
    "type(-45)"
   ]
  },
  {
   "cell_type": "code",
   "execution_count": 11,
   "id": "f6ddd35b",
   "metadata": {},
   "outputs": [
    {
     "data": {
      "text/plain": [
       "str"
      ]
     },
     "execution_count": 11,
     "metadata": {},
     "output_type": "execute_result"
    }
   ],
   "source": [
    "type('prasoon')"
   ]
  },
  {
   "cell_type": "code",
   "execution_count": 12,
   "id": "79663e35",
   "metadata": {},
   "outputs": [
    {
     "data": {
      "text/plain": [
       "float"
      ]
     },
     "execution_count": 12,
     "metadata": {},
     "output_type": "execute_result"
    }
   ],
   "source": [
    "type(45.7)"
   ]
  },
  {
   "cell_type": "code",
   "execution_count": 13,
   "id": "c77a7201",
   "metadata": {},
   "outputs": [
    {
     "data": {
      "text/plain": [
       "bool"
      ]
     },
     "execution_count": 13,
     "metadata": {},
     "output_type": "execute_result"
    }
   ],
   "source": [
    "type(6>9)"
   ]
  },
  {
   "cell_type": "raw",
   "id": "0824be24",
   "metadata": {},
   "source": [
    "Casting Data Types"
   ]
  },
  {
   "cell_type": "code",
   "execution_count": 14,
   "id": "c00195b1",
   "metadata": {},
   "outputs": [
    {
     "data": {
      "text/plain": [
       "5"
      ]
     },
     "execution_count": 14,
     "metadata": {},
     "output_type": "execute_result"
    }
   ],
   "source": [
    "int(5.8)"
   ]
  },
  {
   "cell_type": "code",
   "execution_count": 15,
   "id": "24055552",
   "metadata": {},
   "outputs": [
    {
     "data": {
      "text/plain": [
       "67.0"
      ]
     },
     "execution_count": 15,
     "metadata": {},
     "output_type": "execute_result"
    }
   ],
   "source": [
    "float(67)"
   ]
  },
  {
   "cell_type": "code",
   "execution_count": 16,
   "id": "7c575603",
   "metadata": {},
   "outputs": [
    {
     "data": {
      "text/plain": [
       "'67'"
      ]
     },
     "execution_count": 16,
     "metadata": {},
     "output_type": "execute_result"
    }
   ],
   "source": [
    "str(67)"
   ]
  },
  {
   "cell_type": "raw",
   "id": "0c14cdaa",
   "metadata": {},
   "source": [
    "Variable"
   ]
  },
  {
   "cell_type": "code",
   "execution_count": 17,
   "id": "5fce3180",
   "metadata": {},
   "outputs": [
    {
     "name": "stdout",
     "output_type": "stream",
     "text": [
      "blueline\n"
     ]
    }
   ],
   "source": [
    "name = \"blueline\"\n",
    "print(name)"
   ]
  },
  {
   "cell_type": "code",
   "execution_count": 18,
   "id": "58f3b371",
   "metadata": {},
   "outputs": [
    {
     "name": "stdout",
     "output_type": "stream",
     "text": [
      "hello world\n"
     ]
    }
   ],
   "source": [
    "greetings = \"hello world\"\n",
    "print(greetings)"
   ]
  },
  {
   "cell_type": "code",
   "execution_count": 19,
   "id": "08a0dc45",
   "metadata": {},
   "outputs": [
    {
     "data": {
      "text/plain": [
       "'hello world'"
      ]
     },
     "execution_count": 19,
     "metadata": {},
     "output_type": "execute_result"
    }
   ],
   "source": [
    "greetings"
   ]
  },
  {
   "cell_type": "code",
   "execution_count": 20,
   "id": "1794de4e",
   "metadata": {},
   "outputs": [
    {
     "name": "stdout",
     "output_type": "stream",
     "text": [
      "12\n"
     ]
    }
   ],
   "source": [
    "a = 10\n",
    "b = 2\n",
    "c = a+b\n",
    "print(c)"
   ]
  },
  {
   "cell_type": "markdown",
   "id": "0514fb76",
   "metadata": {},
   "source": [
    "# List"
   ]
  },
  {
   "cell_type": "raw",
   "id": "7f4aff0c",
   "metadata": {},
   "source": [
    "List"
   ]
  },
  {
   "cell_type": "code",
   "execution_count": 21,
   "id": "2ef35567",
   "metadata": {},
   "outputs": [
    {
     "name": "stdout",
     "output_type": "stream",
     "text": [
      "sheep\n"
     ]
    }
   ],
   "source": [
    "animals = (\"dog\", \"cat\", \"sheep\", \"goat\", \"tiger\",\"lion\")\n",
    "print(animals[2])"
   ]
  },
  {
   "cell_type": "code",
   "execution_count": 22,
   "id": "1c421b22",
   "metadata": {},
   "outputs": [
    {
     "name": "stdout",
     "output_type": "stream",
     "text": [
      "goat\n"
     ]
    }
   ],
   "source": [
    "print(animals[-3])"
   ]
  },
  {
   "cell_type": "code",
   "execution_count": 23,
   "id": "5484452d",
   "metadata": {},
   "outputs": [
    {
     "name": "stdout",
     "output_type": "stream",
     "text": [
      "('sheep', 'goat', 'tiger')\n"
     ]
    }
   ],
   "source": [
    "print(animals[2:5])"
   ]
  },
  {
   "cell_type": "raw",
   "id": "639f4a03",
   "metadata": {},
   "source": [
    "create list of fruits"
   ]
  },
  {
   "cell_type": "code",
   "execution_count": 24,
   "id": "1b6ad4e2",
   "metadata": {},
   "outputs": [
    {
     "data": {
      "text/plain": [
       "'orange'"
      ]
     },
     "execution_count": 24,
     "metadata": {},
     "output_type": "execute_result"
    }
   ],
   "source": [
    "fruits = (\"apple\", \"banana\", \"peach\", \"orange\")\n",
    "fruits[3]"
   ]
  },
  {
   "cell_type": "raw",
   "id": "4fbf02b4",
   "metadata": {},
   "source": [
    "change value of an item in list"
   ]
  },
  {
   "cell_type": "code",
   "execution_count": 27,
   "id": "9ce788ca",
   "metadata": {},
   "outputs": [
    {
     "data": {
      "text/plain": [
       "'peach'"
      ]
     },
     "execution_count": 27,
     "metadata": {},
     "output_type": "execute_result"
    }
   ],
   "source": [
    "fruits = [\"apple\", \"banana\", \"peach\", \"orange\"]\n",
    "fruits[2]"
   ]
  },
  {
   "cell_type": "raw",
   "id": "e9da8a6e",
   "metadata": {},
   "source": [
    "add new item to list"
   ]
  },
  {
   "cell_type": "code",
   "execution_count": 28,
   "id": "140242e5",
   "metadata": {},
   "outputs": [
    {
     "data": {
      "text/plain": [
       "['apple', 'banana', 'peach', 'orange', 'cherry']"
      ]
     },
     "execution_count": 28,
     "metadata": {},
     "output_type": "execute_result"
    }
   ],
   "source": [
    "fruits.append('cherry')\n",
    "fruits"
   ]
  },
  {
   "cell_type": "raw",
   "id": "04314b31",
   "metadata": {},
   "source": [
    "Change item in a list"
   ]
  },
  {
   "cell_type": "code",
   "execution_count": 29,
   "id": "91e899d1",
   "metadata": {},
   "outputs": [
    {
     "name": "stdout",
     "output_type": "stream",
     "text": [
      "['watermelon', 'banana', 'peach', 'orange', 'cherry']\n"
     ]
    }
   ],
   "source": [
    "fruits[0] = 'watermelon'\n",
    "print(fruits)"
   ]
  },
  {
   "cell_type": "raw",
   "id": "5ab136aa",
   "metadata": {},
   "source": [
    "Mixed data in a list"
   ]
  },
  {
   "cell_type": "code",
   "execution_count": 30,
   "id": "a848434e",
   "metadata": {},
   "outputs": [
    {
     "data": {
      "text/plain": [
       "5.3"
      ]
     },
     "execution_count": 30,
     "metadata": {},
     "output_type": "execute_result"
    }
   ],
   "source": [
    "mixed = [\"mango\", \"true\", 11, 5.3]\n",
    "mixed[3]"
   ]
  },
  {
   "cell_type": "raw",
   "id": "4ae4c52d",
   "metadata": {},
   "source": [
    "loop through list"
   ]
  },
  {
   "cell_type": "code",
   "execution_count": 37,
   "id": "a854d65c",
   "metadata": {},
   "outputs": [
    {
     "name": "stdout",
     "output_type": "stream",
     "text": [
      "dog\n",
      "cat\n",
      "sheep\n",
      "goat\n",
      "tiger\n",
      "lion\n"
     ]
    }
   ],
   "source": [
    "for a in animals:\n",
    "  print(a)"
   ]
  },
  {
   "cell_type": "raw",
   "id": "5e7ff7d4",
   "metadata": {},
   "source": [
    "check lenghth of list"
   ]
  },
  {
   "cell_type": "code",
   "execution_count": 38,
   "id": "76421ff3",
   "metadata": {},
   "outputs": [
    {
     "name": "stdout",
     "output_type": "stream",
     "text": [
      "6\n"
     ]
    }
   ],
   "source": [
    "print(len(animals))"
   ]
  },
  {
   "cell_type": "code",
   "execution_count": 39,
   "id": "b15c0991",
   "metadata": {},
   "outputs": [
    {
     "name": "stdout",
     "output_type": "stream",
     "text": [
      "['banana', 'peach']\n"
     ]
    }
   ],
   "source": [
    "print(fruits[1:3])"
   ]
  },
  {
   "cell_type": "code",
   "execution_count": 40,
   "id": "0dba139d",
   "metadata": {},
   "outputs": [
    {
     "data": {
      "text/plain": [
       "[]"
      ]
     },
     "execution_count": 40,
     "metadata": {},
     "output_type": "execute_result"
    }
   ],
   "source": [
    "fruits.clear()\n",
    "fruits"
   ]
  },
  {
   "cell_type": "markdown",
   "id": "2258d5f9",
   "metadata": {},
   "source": [
    "# Tuple"
   ]
  },
  {
   "cell_type": "raw",
   "id": "8b9d2cf6",
   "metadata": {},
   "source": [
    "Tuple: collection of mixed data type storing muliple values. cannot add or delete item from tuple"
   ]
  },
  {
   "cell_type": "code",
   "execution_count": 42,
   "id": "8dbc57df",
   "metadata": {},
   "outputs": [
    {
     "data": {
      "text/plain": [
       "'rat'"
      ]
     },
     "execution_count": 42,
     "metadata": {},
     "output_type": "execute_result"
    }
   ],
   "source": [
    "animal = (\"bear\", \"dog\", \"cat\", \"rat\", \"goat\")\n",
    "animal [-2]"
   ]
  },
  {
   "cell_type": "raw",
   "id": "f845a463",
   "metadata": {},
   "source": [
    "looping through tuple"
   ]
  },
  {
   "cell_type": "code",
   "execution_count": 43,
   "id": "b21cbe9a",
   "metadata": {},
   "outputs": [
    {
     "name": "stdout",
     "output_type": "stream",
     "text": [
      "bear\n",
      "dog\n",
      "cat\n",
      "rat\n",
      "goat\n"
     ]
    }
   ],
   "source": [
    "for i in animal:\n",
    "  print(i)"
   ]
  },
  {
   "cell_type": "code",
   "execution_count": 44,
   "id": "d62af3ab",
   "metadata": {},
   "outputs": [
    {
     "name": "stdout",
     "output_type": "stream",
     "text": [
      "5\n"
     ]
    }
   ],
   "source": [
    "print(len(animal))"
   ]
  },
  {
   "cell_type": "raw",
   "id": "6384fe8a",
   "metadata": {},
   "source": [
    " Joining tuples suing +"
   ]
  },
  {
   "cell_type": "code",
   "execution_count": 45,
   "id": "5a7dd6e1",
   "metadata": {},
   "outputs": [
    {
     "name": "stdout",
     "output_type": "stream",
     "text": [
      "('a', 'b', 'c', 1, 2, 3)\n"
     ]
    }
   ],
   "source": [
    "letters = ('a', 'b','c')\n",
    "numbers = (1, 2, 3)\n",
    "letter_numbers = letters + numbers\n",
    "print(letter_numbers)"
   ]
  },
  {
   "cell_type": "markdown",
   "id": "43ca5f8b",
   "metadata": {},
   "source": [
    "# Dictionary"
   ]
  },
  {
   "cell_type": "raw",
   "id": "ed31562d",
   "metadata": {},
   "source": [
    "Dictionaries key-value pair separated by commas"
   ]
  },
  {
   "cell_type": "code",
   "execution_count": 46,
   "id": "a25f8eb7",
   "metadata": {},
   "outputs": [
    {
     "data": {
      "text/plain": [
       "'rome'"
      ]
     },
     "execution_count": 46,
     "metadata": {},
     "output_type": "execute_result"
    }
   ],
   "source": [
    "country_city = {\n",
    "    \"uk\"    : \"london\",\n",
    "    \"usa\"   : \"washington\",\n",
    "    \"italy\" : \"rome\",\n",
    "    \"egypt\" : \"cairo\"\n",
    "}\n",
    "country_city[\"italy\"]"
   ]
  },
  {
   "cell_type": "raw",
   "id": "a6cbabbb",
   "metadata": {},
   "source": [
    "get returns value of the key"
   ]
  },
  {
   "cell_type": "code",
   "execution_count": 47,
   "id": "6a681cb9",
   "metadata": {},
   "outputs": [
    {
     "data": {
      "text/plain": [
       "'cairo'"
      ]
     },
     "execution_count": 47,
     "metadata": {},
     "output_type": "execute_result"
    }
   ],
   "source": [
    "country_city.get(\"egypt\")"
   ]
  },
  {
   "cell_type": "code",
   "execution_count": 48,
   "id": "82565e99",
   "metadata": {},
   "outputs": [
    {
     "data": {
      "text/plain": [
       "'atlanta'"
      ]
     },
     "execution_count": 48,
     "metadata": {},
     "output_type": "execute_result"
    }
   ],
   "source": [
    "country_city[\"usa\"] = \"atlanta\"\n",
    "country_city[\"usa\"]"
   ]
  },
  {
   "cell_type": "raw",
   "id": "dbcf669e",
   "metadata": {},
   "source": [
    "add item to dictionary"
   ]
  },
  {
   "cell_type": "code",
   "execution_count": 49,
   "id": "0c5498a5",
   "metadata": {},
   "outputs": [
    {
     "name": "stdout",
     "output_type": "stream",
     "text": [
      "{'uk': 'london', 'usa': 'atlanta', 'italy': 'rome', 'egypt': 'cairo', 'japan': 'tokyo'}\n"
     ]
    }
   ],
   "source": [
    "country_city[\"japan\"] = \"tokyo\"\n",
    "print(country_city)"
   ]
  },
  {
   "cell_type": "raw",
   "id": "1e539ca0",
   "metadata": {},
   "source": [
    "to remove an item"
   ]
  },
  {
   "cell_type": "code",
   "execution_count": 50,
   "id": "f13b09e2",
   "metadata": {},
   "outputs": [
    {
     "name": "stdout",
     "output_type": "stream",
     "text": [
      "{'uk': 'london', 'usa': 'atlanta', 'italy': 'rome', 'egypt': 'cairo'}\n"
     ]
    }
   ],
   "source": [
    "country_city.pop(\"japan\")\n",
    "print(country_city)"
   ]
  },
  {
   "cell_type": "code",
   "execution_count": 51,
   "id": "9a6440cf",
   "metadata": {},
   "outputs": [
    {
     "name": "stdout",
     "output_type": "stream",
     "text": [
      "uk\n",
      "usa\n",
      "italy\n",
      "egypt\n"
     ]
    }
   ],
   "source": [
    "for i in country_city:\n",
    "  print(i)"
   ]
  },
  {
   "cell_type": "code",
   "execution_count": 52,
   "id": "3811e308",
   "metadata": {},
   "outputs": [
    {
     "name": "stdout",
     "output_type": "stream",
     "text": [
      "london\n",
      "atlanta\n",
      "rome\n",
      "cairo\n"
     ]
    }
   ],
   "source": [
    "for i in country_city.values():\n",
    "  print(i)"
   ]
  },
  {
   "cell_type": "raw",
   "id": "bf3fa29a",
   "metadata": {},
   "source": [
    "display both key and values"
   ]
  },
  {
   "cell_type": "code",
   "execution_count": 53,
   "id": "e4ab5446",
   "metadata": {},
   "outputs": [
    {
     "name": "stdout",
     "output_type": "stream",
     "text": [
      "uk london\n",
      "usa atlanta\n",
      "italy rome\n",
      "egypt cairo\n"
     ]
    }
   ],
   "source": [
    "for x,y in country_city.items():\n",
    "  print(x,y)"
   ]
  },
  {
   "cell_type": "code",
   "execution_count": 54,
   "id": "3cfff447",
   "metadata": {},
   "outputs": [
    {
     "name": "stdout",
     "output_type": "stream",
     "text": [
      "4\n"
     ]
    }
   ],
   "source": [
    "print(len(country_city))"
   ]
  },
  {
   "cell_type": "markdown",
   "id": "05ae58b7",
   "metadata": {},
   "source": [
    "# Operators"
   ]
  },
  {
   "cell_type": "code",
   "execution_count": 55,
   "id": "84fd714b",
   "metadata": {},
   "outputs": [
    {
     "name": "stdout",
     "output_type": "stream",
     "text": [
      "11\n"
     ]
    }
   ],
   "source": [
    "x = 4\n",
    "y = 7\n",
    "print(x+y)"
   ]
  },
  {
   "cell_type": "code",
   "execution_count": 56,
   "id": "2fe36399",
   "metadata": {},
   "outputs": [
    {
     "name": "stdout",
     "output_type": "stream",
     "text": [
      "28\n"
     ]
    }
   ],
   "source": [
    "print(x*y)"
   ]
  },
  {
   "cell_type": "code",
   "execution_count": 57,
   "id": "5dbaa5cf",
   "metadata": {},
   "outputs": [
    {
     "name": "stdout",
     "output_type": "stream",
     "text": [
      "6\n"
     ]
    }
   ],
   "source": [
    "x = 3\n",
    "x +=3\n",
    "print(x)"
   ]
  },
  {
   "cell_type": "code",
   "execution_count": 58,
   "id": "e0829419",
   "metadata": {},
   "outputs": [
    {
     "name": "stdout",
     "output_type": "stream",
     "text": [
      "14\n"
     ]
    }
   ],
   "source": [
    "x = 7\n",
    "x *= 2\n",
    "print(x)"
   ]
  },
  {
   "cell_type": "code",
   "execution_count": 59,
   "id": "e56dcc50",
   "metadata": {},
   "outputs": [
    {
     "name": "stdout",
     "output_type": "stream",
     "text": [
      "False\n"
     ]
    }
   ],
   "source": [
    "x = 7\n",
    "y = 4\n",
    "print(x==y)"
   ]
  },
  {
   "cell_type": "code",
   "execution_count": 60,
   "id": "a6e0ac0f",
   "metadata": {},
   "outputs": [
    {
     "name": "stdout",
     "output_type": "stream",
     "text": [
      "True\n"
     ]
    }
   ],
   "source": [
    "x = 7\n",
    "y = 9\n",
    "print(x<y)"
   ]
  },
  {
   "cell_type": "markdown",
   "id": "1636e705",
   "metadata": {},
   "source": [
    "# Statements"
   ]
  },
  {
   "cell_type": "raw",
   "id": "ef611628",
   "metadata": {},
   "source": [
    "If Statement"
   ]
  },
  {
   "cell_type": "code",
   "execution_count": 61,
   "id": "d4ad0bbf",
   "metadata": {},
   "outputs": [
    {
     "name": "stdout",
     "output_type": "stream",
     "text": [
      "a is smaller than b\n"
     ]
    }
   ],
   "source": [
    "a = 2\n",
    "b = 3\n",
    "if a<b:\n",
    "  print(\"a is smaller than b\")"
   ]
  },
  {
   "cell_type": "raw",
   "id": "381baee1",
   "metadata": {},
   "source": [
    "ELIF Statement"
   ]
  },
  {
   "cell_type": "code",
   "execution_count": 62,
   "id": "d52b3974",
   "metadata": {},
   "outputs": [
    {
     "name": "stdout",
     "output_type": "stream",
     "text": [
      "a is less than b\n"
     ]
    }
   ],
   "source": [
    "a = 10\n",
    "b = 20\n",
    "if a == b:\n",
    "  print(\"both a and b are equal\")\n",
    "elif a < b:\n",
    "    print(\"a is less than b\")"
   ]
  },
  {
   "cell_type": "raw",
   "id": "33405a60",
   "metadata": {},
   "source": [
    "ELSE Statement"
   ]
  },
  {
   "cell_type": "code",
   "execution_count": 63,
   "id": "b2022685",
   "metadata": {},
   "outputs": [
    {
     "name": "stdout",
     "output_type": "stream",
     "text": [
      " b is greater than c\n"
     ]
    }
   ],
   "source": [
    "a = 10\n",
    "b = 20\n",
    "if a == b:\n",
    "  print(\"a and b are equal\")\n",
    "elif a > b:\n",
    "  print(\"a is greater than b\")\n",
    "else:\n",
    "  print(\" b is greater than c\")"
   ]
  },
  {
   "cell_type": "code",
   "execution_count": 64,
   "id": "2ce71de3",
   "metadata": {},
   "outputs": [
    {
     "name": "stdout",
     "output_type": "stream",
     "text": [
      "enter the number8\n",
      "enter the number9\n",
      "17\n"
     ]
    }
   ],
   "source": [
    "first = int(input(\"enter the number\"))\n",
    "second = int(input(\"enter the number\"))\n",
    "sum = first + second\n",
    "print(sum)"
   ]
  },
  {
   "cell_type": "markdown",
   "id": "64832261",
   "metadata": {},
   "source": [
    "# Looping"
   ]
  },
  {
   "cell_type": "raw",
   "id": "d8c66d98",
   "metadata": {},
   "source": [
    "LOOP Statements\n",
    "While"
   ]
  },
  {
   "cell_type": "code",
   "execution_count": 65,
   "id": "37ae65ac",
   "metadata": {},
   "outputs": [
    {
     "name": "stdout",
     "output_type": "stream",
     "text": [
      "1\n",
      "2\n",
      "3\n",
      "4\n",
      "5\n",
      "6\n"
     ]
    }
   ],
   "source": [
    "i = 1\n",
    "while i<7:\n",
    "  print(i)\n",
    "  i += 1"
   ]
  },
  {
   "cell_type": "code",
   "execution_count": 66,
   "id": "8521be1d",
   "metadata": {},
   "outputs": [
    {
     "name": "stdout",
     "output_type": "stream",
     "text": [
      "1\n",
      "2\n",
      "3\n",
      "4\n"
     ]
    }
   ],
   "source": [
    "i = 1\n",
    "while i<7:\n",
    "  print(i)\n",
    "  if (i == 4):\n",
    "    break\n",
    "  i += 1"
   ]
  },
  {
   "cell_type": "raw",
   "id": "b07d1ed4",
   "metadata": {},
   "source": [
    "FOR Loop"
   ]
  },
  {
   "cell_type": "code",
   "execution_count": 67,
   "id": "c2cfcff7",
   "metadata": {},
   "outputs": [
    {
     "name": "stdout",
     "output_type": "stream",
     "text": [
      "joy\n",
      "jack\n",
      "jill\n"
     ]
    }
   ],
   "source": [
    "name = [\"joy\", \"jack\", \"jill\"]\n",
    "for x in name:\n",
    "  print(x)"
   ]
  },
  {
   "cell_type": "code",
   "execution_count": 68,
   "id": "a375408b",
   "metadata": {},
   "outputs": [
    {
     "name": "stdout",
     "output_type": "stream",
     "text": [
      "i\n",
      "n\n",
      "d\n",
      "i\n",
      "a\n"
     ]
    }
   ],
   "source": [
    "for x in \"india\":\n",
    "  print(x)"
   ]
  },
  {
   "cell_type": "code",
   "execution_count": 69,
   "id": "d13a425c",
   "metadata": {},
   "outputs": [
    {
     "name": "stdout",
     "output_type": "stream",
     "text": [
      "red cherry\n",
      "red orange\n",
      "red grapes\n",
      "orange cherry\n",
      "orange orange\n",
      "orange grapes\n",
      "green cherry\n",
      "green orange\n",
      "green grapes\n"
     ]
    }
   ],
   "source": [
    "colour = [\"red\", \"orange\", \"green\"]\n",
    "fruit =  [\"cherry\", \"orange\", \"grapes\"]\n",
    "for x in colour:\n",
    "  for y in fruit:\n",
    "    print (x,y)"
   ]
  },
  {
   "cell_type": "markdown",
   "id": "16ace36d",
   "metadata": {},
   "source": [
    "# Functions"
   ]
  },
  {
   "cell_type": "raw",
   "id": "ab9ddd29",
   "metadata": {},
   "source": [
    "Functions"
   ]
  },
  {
   "cell_type": "code",
   "execution_count": 70,
   "id": "ca4e919a",
   "metadata": {},
   "outputs": [
    {
     "name": "stdout",
     "output_type": "stream",
     "text": [
      "5\n"
     ]
    }
   ],
   "source": [
    "def sum(x,y):\n",
    "  print(x + y)\n",
    "\n",
    "sum(2,3)"
   ]
  },
  {
   "cell_type": "code",
   "execution_count": 71,
   "id": "7209c5dc",
   "metadata": {},
   "outputs": [],
   "source": [
    "def sum(x,y):\n",
    "  print(x + y)"
   ]
  },
  {
   "cell_type": "code",
   "execution_count": 72,
   "id": "9942408c",
   "metadata": {},
   "outputs": [
    {
     "name": "stdout",
     "output_type": "stream",
     "text": [
      "9\n"
     ]
    }
   ],
   "source": [
    "sum(2, 7)"
   ]
  },
  {
   "cell_type": "code",
   "execution_count": 73,
   "id": "37c80b9f",
   "metadata": {},
   "outputs": [],
   "source": [
    "def student(name = \"blueline\"):\n",
    "  print(\"hello \" + name)"
   ]
  },
  {
   "cell_type": "raw",
   "id": "57d32d55",
   "metadata": {},
   "source": [
    "calling function without argument"
   ]
  },
  {
   "cell_type": "code",
   "execution_count": 74,
   "id": "36b61dcf",
   "metadata": {},
   "outputs": [
    {
     "name": "stdout",
     "output_type": "stream",
     "text": [
      "hello blueline\n"
     ]
    }
   ],
   "source": [
    "student()"
   ]
  },
  {
   "cell_type": "code",
   "execution_count": 75,
   "id": "3358efb4",
   "metadata": {},
   "outputs": [
    {
     "name": "stdout",
     "output_type": "stream",
     "text": [
      "hello john\n"
     ]
    }
   ],
   "source": [
    "student(\"john\")"
   ]
  },
  {
   "cell_type": "code",
   "execution_count": 76,
   "id": "d66688fd",
   "metadata": {},
   "outputs": [
    {
     "name": "stdout",
     "output_type": "stream",
     "text": [
      "hello james\n"
     ]
    }
   ],
   "source": [
    "student(\"james\")"
   ]
  },
  {
   "cell_type": "code",
   "execution_count": 77,
   "id": "76ec8936",
   "metadata": {},
   "outputs": [],
   "source": [
    "def calculator(operand1, operand2, operator):\n",
    "  if operator == '+':\n",
    "    return operand1 + operand2\n",
    "  elif operator == '*':\n",
    "    return operand1 * operand2\n",
    "  elif operator == '/':\n",
    "    if operand2 != 0:\n",
    "      return operand1 / operand2\n",
    "    else:\n",
    "      return none\n",
    "  else:\n",
    "    return \"invalid inputs\""
   ]
  },
  {
   "cell_type": "code",
   "execution_count": 78,
   "id": "67a06058",
   "metadata": {},
   "outputs": [
    {
     "name": "stdout",
     "output_type": "stream",
     "text": [
      "30\n"
     ]
    }
   ],
   "source": [
    "output = calculator(10, 20, '+')\n",
    "print(output)"
   ]
  },
  {
   "cell_type": "markdown",
   "id": "65ec6c30",
   "metadata": {},
   "source": [
    "# Exercise"
   ]
  },
  {
   "cell_type": "code",
   "execution_count": 79,
   "id": "fab73a89",
   "metadata": {},
   "outputs": [
    {
     "name": "stdout",
     "output_type": "stream",
     "text": [
      "The area of the triangle is 14.70\n"
     ]
    }
   ],
   "source": [
    "# Python Program to find the area of triangle\n",
    "\n",
    "a = 5\n",
    "b = 6\n",
    "c = 7\n",
    "\n",
    "# Uncomment below to take inputs from the user\n",
    "# a = float(input('Enter first side: '))\n",
    "# b = float(input('Enter second side: '))\n",
    "# c = float(input('Enter third side: '))\n",
    "\n",
    "# calculate the semi-perimeter\n",
    "s = (a + b + c) / 2\n",
    "\n",
    "# calculate the area\n",
    "area = (s*(s-a)*(s-b)*(s-c)) ** 0.5\n",
    "print('The area of the triangle is %0.2f' %area)"
   ]
  },
  {
   "cell_type": "code",
   "execution_count": null,
   "id": "9864c972",
   "metadata": {},
   "outputs": [],
   "source": []
  }
 ],
 "metadata": {
  "kernelspec": {
   "display_name": "Python 3 (ipykernel)",
   "language": "python",
   "name": "python3"
  },
  "language_info": {
   "codemirror_mode": {
    "name": "ipython",
    "version": 3
   },
   "file_extension": ".py",
   "mimetype": "text/x-python",
   "name": "python",
   "nbconvert_exporter": "python",
   "pygments_lexer": "ipython3",
   "version": "3.9.12"
  }
 },
 "nbformat": 4,
 "nbformat_minor": 5
}
